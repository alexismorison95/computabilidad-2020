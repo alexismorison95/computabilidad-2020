{
 "metadata": {
  "language_info": {
   "codemirror_mode": {
    "name": "ipython",
    "version": 3
   },
   "file_extension": ".py",
   "mimetype": "text/x-python",
   "name": "python",
   "nbconvert_exporter": "python",
   "pygments_lexer": "ipython3",
   "version": "3.7.1-final"
  },
  "orig_nbformat": 2,
  "kernelspec": {
   "name": "Python 3.7.1 64-bit ('base': conda)",
   "display_name": "Python 3.7.1 64-bit ('base': conda)",
   "metadata": {
    "interpreter": {
     "hash": "b3ba2566441a7c06988d0923437866b63cedc61552a5af99d1f4fb67d367b25f"
    }
   }
  }
 },
 "nbformat": 4,
 "nbformat_minor": 2,
 "cells": [
  {
   "cell_type": "code",
   "execution_count": 6,
   "metadata": {},
   "outputs": [],
   "source": [
    "# Importo las funciones necesarias\n",
    "\n",
    "from tokenizer import Tokenizer\n",
    "from sat import Sat\n",
    "from generator import Generator"
   ]
  },
  {
   "cell_type": "code",
   "execution_count": 9,
   "metadata": {},
   "outputs": [],
   "source": [
    "# Puedo crear una expresion manualmente\n",
    "\n",
    "expression = '(x6 or x2) and (x8 or x4) and (x1 or x5) and (x7 or x3)'"
   ]
  },
  {
   "cell_type": "code",
   "execution_count": 3,
   "metadata": {},
   "outputs": [],
   "source": [
    "# Puedo generar expresiones automaticamente\n",
    "\n",
    "gen = Generator(clause_count=4, literals_per_clause=2, variable_count=8, var_name='x')\n",
    "\n",
    "expression = gen.generate()"
   ]
  },
  {
   "cell_type": "code",
   "execution_count": 7,
   "metadata": {},
   "outputs": [
    {
     "output_type": "stream",
     "name": "stdout",
     "text": [
      "{'and': 3, 'or': 4, 'not': 5, '(': 4, ')': 4, 'var': 8}\n['x1', 'x2', 'x3', 'x4', 'x5', 'x6', 'x7', 'x8']\n"
     ]
    }
   ],
   "source": [
    "# Genero los tokens para identificar las variables de la expresion\n",
    "\n",
    "tokenizer = Tokenizer(expression)\n",
    "tokens, var_names = tokenizer.tokenize()\n",
    "\n",
    "print(tokens)\n",
    "print(var_names)"
   ]
  },
  {
   "cell_type": "code",
   "execution_count": 10,
   "metadata": {},
   "outputs": [
    {
     "output_type": "stream",
     "name": "stdout",
     "text": [
      "Evaluating = {'x1': 0, 'x2': 0, 'x3': 0, 'x4': 0, 'x5': 0, 'x6': 0, 'x7': 0, 'x8': 0}\nEvaluating = {'x1': 1, 'x2': 0, 'x3': 0, 'x4': 0, 'x5': 0, 'x6': 0, 'x7': 0, 'x8': 0}\nEvaluating = {'x1': 0, 'x2': 1, 'x3': 0, 'x4': 0, 'x5': 0, 'x6': 0, 'x7': 0, 'x8': 0}\nEvaluating = {'x1': 1, 'x2': 1, 'x3': 0, 'x4': 0, 'x5': 0, 'x6': 0, 'x7': 0, 'x8': 0}\nEvaluating = {'x1': 0, 'x2': 0, 'x3': 1, 'x4': 0, 'x5': 0, 'x6': 0, 'x7': 0, 'x8': 0}\nEvaluating = {'x1': 1, 'x2': 0, 'x3': 1, 'x4': 0, 'x5': 0, 'x6': 0, 'x7': 0, 'x8': 0}\nEvaluating = {'x1': 0, 'x2': 1, 'x3': 1, 'x4': 0, 'x5': 0, 'x6': 0, 'x7': 0, 'x8': 0}\nEvaluating = {'x1': 1, 'x2': 1, 'x3': 1, 'x4': 0, 'x5': 0, 'x6': 0, 'x7': 0, 'x8': 0}\nEvaluating = {'x1': 0, 'x2': 0, 'x3': 0, 'x4': 1, 'x5': 0, 'x6': 0, 'x7': 0, 'x8': 0}\nEvaluating = {'x1': 1, 'x2': 0, 'x3': 0, 'x4': 1, 'x5': 0, 'x6': 0, 'x7': 0, 'x8': 0}\nEvaluating = {'x1': 0, 'x2': 1, 'x3': 0, 'x4': 1, 'x5': 0, 'x6': 0, 'x7': 0, 'x8': 0}\nEvaluating = {'x1': 1, 'x2': 1, 'x3': 0, 'x4': 1, 'x5': 0, 'x6': 0, 'x7': 0, 'x8': 0}\nEvaluating = {'x1': 0, 'x2': 0, 'x3': 1, 'x4': 1, 'x5': 0, 'x6': 0, 'x7': 0, 'x8': 0}\nEvaluating = {'x1': 1, 'x2': 0, 'x3': 1, 'x4': 1, 'x5': 0, 'x6': 0, 'x7': 0, 'x8': 0}\nEvaluating = {'x1': 0, 'x2': 1, 'x3': 1, 'x4': 1, 'x5': 0, 'x6': 0, 'x7': 0, 'x8': 0}\nEvaluating = {'x1': 1, 'x2': 1, 'x3': 1, 'x4': 1, 'x5': 0, 'x6': 0, 'x7': 0, 'x8': 0}\n\nExecution time 0.0030270999999402193 seconds, in 16 loops\n\nResult: Expression \"(x6 or x2) and (x8 or x4) and (x1 or x5) and (x7 or x3)\" is True\n"
     ]
    }
   ],
   "source": [
    "# ejecuto el algoritmo, que toma como parametros la expresion, el arreglo de variables\n",
    "# y un booleano que indica si se hace un reporte de las operaciones\n",
    "\n",
    "sat = Sat()\n",
    "\n",
    "result_sat = sat.sat_algorithm(expression, var_names, verbose=True)\n",
    "\n",
    "print('\\nResult: Expression \"{}\" is {}'.format(expression, result_sat))"
   ]
  }
 ]
}