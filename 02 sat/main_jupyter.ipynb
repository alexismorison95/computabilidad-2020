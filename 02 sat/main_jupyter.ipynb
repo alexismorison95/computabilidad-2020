{
 "metadata": {
  "language_info": {
   "codemirror_mode": {
    "name": "ipython",
    "version": 3
   },
   "file_extension": ".py",
   "mimetype": "text/x-python",
   "name": "python",
   "nbconvert_exporter": "python",
   "pygments_lexer": "ipython3",
   "version": "3.7.1-final"
  },
  "orig_nbformat": 2,
  "kernelspec": {
   "name": "Python 3.7.1 64-bit ('base': conda)",
   "display_name": "Python 3.7.1 64-bit ('base': conda)",
   "metadata": {
    "interpreter": {
     "hash": "b3ba2566441a7c06988d0923437866b63cedc61552a5af99d1f4fb67d367b25f"
    }
   }
  }
 },
 "nbformat": 4,
 "nbformat_minor": 2,
 "cells": [
  {
   "cell_type": "code",
   "execution_count": 16,
   "metadata": {},
   "outputs": [],
   "source": [
    "# Importo las funciones necesarias\n",
    "\n",
    "from tokenizer import Tokenizer\n",
    "from sat import Sat\n",
    "from generator import Generator"
   ]
  },
  {
   "cell_type": "code",
   "execution_count": 17,
   "metadata": {},
   "outputs": [],
   "source": [
    "# Puedo crear una expresion manualmente\n",
    "\n",
    "expression = 'a and b and (c and not a)'"
   ]
  },
  {
   "cell_type": "code",
   "execution_count": 3,
   "metadata": {},
   "outputs": [],
   "source": [
    "# Puedo generar expresiones automaticamente\n",
    "\n",
    "gen = Generator(clause_count=4, literals_per_clause=2, variable_count=8, var_name='x')\n",
    "\n",
    "expression = gen.generate()"
   ]
  },
  {
   "cell_type": "code",
   "execution_count": 20,
   "metadata": {},
   "outputs": [
    {
     "output_type": "stream",
     "name": "stdout",
     "text": [
      "Contador de variables y otras cosas {'and': 3, 'or': 0, 'not': 1, '(': 1, ')': 1, 'var': 4}\n['a', 'b', 'c']\n"
     ]
    }
   ],
   "source": [
    "# Genero los tokens para identificar las variables de la expresion\n",
    "\n",
    "tokenizer = Tokenizer(expression)\n",
    "tokens, var_names = tokenizer.tokenize()\n",
    "\n",
    "print('Contador de variables y otras cosas', tokens)\n",
    "print('Variables de la expresion', var_names)"
   ]
  },
  {
   "cell_type": "code",
   "execution_count": 19,
   "metadata": {},
   "outputs": [
    {
     "output_type": "stream",
     "name": "stdout",
     "text": [
      "Evaluating = {'a': 0, 'b': 0, 'c': 0}\nEvaluating = {'a': 1, 'b': 0, 'c': 0}\nEvaluating = {'a': 0, 'b': 1, 'c': 0}\nEvaluating = {'a': 1, 'b': 1, 'c': 0}\nEvaluating = {'a': 0, 'b': 0, 'c': 1}\nEvaluating = {'a': 1, 'b': 0, 'c': 1}\nEvaluating = {'a': 0, 'b': 1, 'c': 1}\nEvaluating = {'a': 1, 'b': 1, 'c': 1}\n\nExecution time 0.0011888000001363253 seconds\n\nResult: Expression \"a and b and (c and not a)\" is False\n"
     ]
    }
   ],
   "source": [
    "# ejecuto el algoritmo, que toma como parametros la expresion, el arreglo de variables\n",
    "# y un booleano que indica si se hace un reporte de las operaciones\n",
    "\n",
    "sat = Sat()\n",
    "\n",
    "result_sat = sat.sat_algorithm(expression, var_names, verbose=True)\n",
    "\n",
    "print('\\nResult: Expression \"{}\" is {}'.format(expression, result_sat))"
   ]
  }
 ]
}